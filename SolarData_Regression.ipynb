{
 "cells": [
  {
   "cell_type": "code",
   "execution_count": 52,
   "id": "c5ab456b",
   "metadata": {},
   "outputs": [],
   "source": [
    "import numpy as np\n",
    "import pandas as pd\n",
    "import math\n",
    "\n",
    "from sklearn.model_selection import train_test_split\n",
    "\n",
    "from sklearn.tree import DecisionTreeRegressor\n",
    "\n",
    "from sklearn.metrics import mean_squared_error\n",
    "\n",
    "import matplotlib.pyplot as plt"
   ]
  },
  {
   "cell_type": "code",
   "execution_count": 20,
   "id": "768735c9",
   "metadata": {},
   "outputs": [],
   "source": [
    "data_path = \"D:\\!!!MAAykanat Dosyalar\\MAA_Own_Study\\organised_data_final.csv\""
   ]
  },
  {
   "cell_type": "code",
   "execution_count": 21,
   "id": "04927513",
   "metadata": {},
   "outputs": [],
   "source": [
    "solar_energy_data = pd.read_csv(data_path, sep=\";\")"
   ]
  },
  {
   "cell_type": "code",
   "execution_count": 22,
   "id": "cbed6eb6",
   "metadata": {},
   "outputs": [
    {
     "data": {
      "text/html": [
       "<div>\n",
       "<style scoped>\n",
       "    .dataframe tbody tr th:only-of-type {\n",
       "        vertical-align: middle;\n",
       "    }\n",
       "\n",
       "    .dataframe tbody tr th {\n",
       "        vertical-align: top;\n",
       "    }\n",
       "\n",
       "    .dataframe thead th {\n",
       "        text-align: right;\n",
       "    }\n",
       "</style>\n",
       "<table border=\"1\" class=\"dataframe\">\n",
       "  <thead>\n",
       "    <tr style=\"text-align: right;\">\n",
       "      <th></th>\n",
       "      <th>YEAR</th>\n",
       "      <th>MONTH</th>\n",
       "      <th>DAY</th>\n",
       "      <th>HOUR</th>\n",
       "      <th>WDS</th>\n",
       "      <th>MXT</th>\n",
       "      <th>MNT</th>\n",
       "      <th>TMP</th>\n",
       "      <th>PRC</th>\n",
       "      <th>PRS</th>\n",
       "      <th>RLH</th>\n",
       "      <th>SSI</th>\n",
       "      <th>GSR</th>\n",
       "      <th>OUP</th>\n",
       "    </tr>\n",
       "  </thead>\n",
       "  <tbody>\n",
       "    <tr>\n",
       "      <th>0</th>\n",
       "      <td>2016</td>\n",
       "      <td>6</td>\n",
       "      <td>17</td>\n",
       "      <td>0</td>\n",
       "      <td>NaN</td>\n",
       "      <td>NaN</td>\n",
       "      <td>NaN</td>\n",
       "      <td>NaN</td>\n",
       "      <td>NaN</td>\n",
       "      <td>NaN</td>\n",
       "      <td>NaN</td>\n",
       "      <td>0.0</td>\n",
       "      <td>0.0</td>\n",
       "      <td>0.0</td>\n",
       "    </tr>\n",
       "    <tr>\n",
       "      <th>1</th>\n",
       "      <td>2016</td>\n",
       "      <td>6</td>\n",
       "      <td>17</td>\n",
       "      <td>1</td>\n",
       "      <td>NaN</td>\n",
       "      <td>NaN</td>\n",
       "      <td>NaN</td>\n",
       "      <td>NaN</td>\n",
       "      <td>NaN</td>\n",
       "      <td>NaN</td>\n",
       "      <td>NaN</td>\n",
       "      <td>0.0</td>\n",
       "      <td>0.0</td>\n",
       "      <td>0.0</td>\n",
       "    </tr>\n",
       "    <tr>\n",
       "      <th>2</th>\n",
       "      <td>2016</td>\n",
       "      <td>6</td>\n",
       "      <td>17</td>\n",
       "      <td>2</td>\n",
       "      <td>NaN</td>\n",
       "      <td>NaN</td>\n",
       "      <td>NaN</td>\n",
       "      <td>NaN</td>\n",
       "      <td>NaN</td>\n",
       "      <td>NaN</td>\n",
       "      <td>NaN</td>\n",
       "      <td>0.0</td>\n",
       "      <td>0.0</td>\n",
       "      <td>0.0</td>\n",
       "    </tr>\n",
       "    <tr>\n",
       "      <th>3</th>\n",
       "      <td>2016</td>\n",
       "      <td>6</td>\n",
       "      <td>17</td>\n",
       "      <td>3</td>\n",
       "      <td>NaN</td>\n",
       "      <td>NaN</td>\n",
       "      <td>NaN</td>\n",
       "      <td>NaN</td>\n",
       "      <td>NaN</td>\n",
       "      <td>NaN</td>\n",
       "      <td>NaN</td>\n",
       "      <td>0.0</td>\n",
       "      <td>0.0</td>\n",
       "      <td>0.0</td>\n",
       "    </tr>\n",
       "    <tr>\n",
       "      <th>4</th>\n",
       "      <td>2016</td>\n",
       "      <td>6</td>\n",
       "      <td>17</td>\n",
       "      <td>4</td>\n",
       "      <td>NaN</td>\n",
       "      <td>44754.0</td>\n",
       "      <td>44753.0</td>\n",
       "      <td>44693.0</td>\n",
       "      <td>0.0</td>\n",
       "      <td>848.3</td>\n",
       "      <td>80.0</td>\n",
       "      <td>0.0</td>\n",
       "      <td>0.0</td>\n",
       "      <td>0.0</td>\n",
       "    </tr>\n",
       "  </tbody>\n",
       "</table>\n",
       "</div>"
      ],
      "text/plain": [
       "   YEAR  MONTH  DAY  HOUR  WDS      MXT      MNT      TMP  PRC    PRS   RLH  \\\n",
       "0  2016      6   17     0  NaN      NaN      NaN      NaN  NaN    NaN   NaN   \n",
       "1  2016      6   17     1  NaN      NaN      NaN      NaN  NaN    NaN   NaN   \n",
       "2  2016      6   17     2  NaN      NaN      NaN      NaN  NaN    NaN   NaN   \n",
       "3  2016      6   17     3  NaN      NaN      NaN      NaN  NaN    NaN   NaN   \n",
       "4  2016      6   17     4  NaN  44754.0  44753.0  44693.0  0.0  848.3  80.0   \n",
       "\n",
       "   SSI  GSR  OUP  \n",
       "0  0.0  0.0  0.0  \n",
       "1  0.0  0.0  0.0  \n",
       "2  0.0  0.0  0.0  \n",
       "3  0.0  0.0  0.0  \n",
       "4  0.0  0.0  0.0  "
      ]
     },
     "execution_count": 22,
     "metadata": {},
     "output_type": "execute_result"
    }
   ],
   "source": [
    "solar_energy_data.head()"
   ]
  },
  {
   "cell_type": "code",
   "execution_count": 30,
   "id": "87c51790",
   "metadata": {},
   "outputs": [
    {
     "data": {
      "text/html": [
       "<div>\n",
       "<style scoped>\n",
       "    .dataframe tbody tr th:only-of-type {\n",
       "        vertical-align: middle;\n",
       "    }\n",
       "\n",
       "    .dataframe tbody tr th {\n",
       "        vertical-align: top;\n",
       "    }\n",
       "\n",
       "    .dataframe thead th {\n",
       "        text-align: right;\n",
       "    }\n",
       "</style>\n",
       "<table border=\"1\" class=\"dataframe\">\n",
       "  <thead>\n",
       "    <tr style=\"text-align: right;\">\n",
       "      <th></th>\n",
       "      <th>YEAR</th>\n",
       "      <th>MONTH</th>\n",
       "      <th>DAY</th>\n",
       "      <th>HOUR</th>\n",
       "      <th>WDS</th>\n",
       "      <th>MXT</th>\n",
       "      <th>MNT</th>\n",
       "      <th>TMP</th>\n",
       "      <th>PRC</th>\n",
       "      <th>PRS</th>\n",
       "      <th>RLH</th>\n",
       "      <th>SSI</th>\n",
       "      <th>GSR</th>\n",
       "      <th>OUP</th>\n",
       "    </tr>\n",
       "  </thead>\n",
       "  <tbody>\n",
       "    <tr>\n",
       "      <th>count</th>\n",
       "      <td>10032.000000</td>\n",
       "      <td>10032.000000</td>\n",
       "      <td>10032.000000</td>\n",
       "      <td>10032.000000</td>\n",
       "      <td>10032.000000</td>\n",
       "      <td>10032.000000</td>\n",
       "      <td>10032.000000</td>\n",
       "      <td>10032.000000</td>\n",
       "      <td>10032.000000</td>\n",
       "      <td>10032.000000</td>\n",
       "      <td>10032.000000</td>\n",
       "      <td>10032.000000</td>\n",
       "      <td>10032.000000</td>\n",
       "      <td>1.003200e+04</td>\n",
       "    </tr>\n",
       "    <tr>\n",
       "      <th>mean</th>\n",
       "      <td>2016.526316</td>\n",
       "      <td>6.571770</td>\n",
       "      <td>15.787081</td>\n",
       "      <td>11.500000</td>\n",
       "      <td>31732.010083</td>\n",
       "      <td>31126.676023</td>\n",
       "      <td>30597.777546</td>\n",
       "      <td>31029.242448</td>\n",
       "      <td>254.761740</td>\n",
       "      <td>846.087287</td>\n",
       "      <td>55.252245</td>\n",
       "      <td>5536.597367</td>\n",
       "      <td>2161.611744</td>\n",
       "      <td>1.628303e+05</td>\n",
       "    </tr>\n",
       "    <tr>\n",
       "      <th>std</th>\n",
       "      <td>0.499332</td>\n",
       "      <td>3.232158</td>\n",
       "      <td>8.864925</td>\n",
       "      <td>6.922532</td>\n",
       "      <td>18055.436246</td>\n",
       "      <td>19319.868783</td>\n",
       "      <td>19527.123498</td>\n",
       "      <td>19161.012722</td>\n",
       "      <td>3080.958103</td>\n",
       "      <td>3.445537</td>\n",
       "      <td>21.508504</td>\n",
       "      <td>13457.388970</td>\n",
       "      <td>8796.565118</td>\n",
       "      <td>2.888152e+05</td>\n",
       "    </tr>\n",
       "    <tr>\n",
       "      <th>min</th>\n",
       "      <td>2016.000000</td>\n",
       "      <td>1.000000</td>\n",
       "      <td>1.000000</td>\n",
       "      <td>0.000000</td>\n",
       "      <td>0.000000</td>\n",
       "      <td>-19.600000</td>\n",
       "      <td>-20.900000</td>\n",
       "      <td>-20.600000</td>\n",
       "      <td>0.000000</td>\n",
       "      <td>831.700000</td>\n",
       "      <td>5.000000</td>\n",
       "      <td>0.000000</td>\n",
       "      <td>0.000000</td>\n",
       "      <td>0.000000e+00</td>\n",
       "    </tr>\n",
       "    <tr>\n",
       "      <th>25%</th>\n",
       "      <td>2016.000000</td>\n",
       "      <td>4.000000</td>\n",
       "      <td>8.000000</td>\n",
       "      <td>5.750000</td>\n",
       "      <td>31732.010083</td>\n",
       "      <td>32.200000</td>\n",
       "      <td>21.000000</td>\n",
       "      <td>31.900000</td>\n",
       "      <td>0.000000</td>\n",
       "      <td>844.100000</td>\n",
       "      <td>39.750000</td>\n",
       "      <td>0.000000</td>\n",
       "      <td>0.000000</td>\n",
       "      <td>0.000000e+00</td>\n",
       "    </tr>\n",
       "    <tr>\n",
       "      <th>50%</th>\n",
       "      <td>2017.000000</td>\n",
       "      <td>7.000000</td>\n",
       "      <td>16.000000</td>\n",
       "      <td>11.500000</td>\n",
       "      <td>44564.000000</td>\n",
       "      <td>44608.000000</td>\n",
       "      <td>44606.000000</td>\n",
       "      <td>44606.000000</td>\n",
       "      <td>0.000000</td>\n",
       "      <td>846.100000</td>\n",
       "      <td>55.252245</td>\n",
       "      <td>19.845000</td>\n",
       "      <td>82.200000</td>\n",
       "      <td>4.592200e+02</td>\n",
       "    </tr>\n",
       "    <tr>\n",
       "      <th>75%</th>\n",
       "      <td>2017.000000</td>\n",
       "      <td>9.000000</td>\n",
       "      <td>23.000000</td>\n",
       "      <td>17.250000</td>\n",
       "      <td>44682.000000</td>\n",
       "      <td>44721.000000</td>\n",
       "      <td>44721.000000</td>\n",
       "      <td>44717.000000</td>\n",
       "      <td>0.000000</td>\n",
       "      <td>848.200000</td>\n",
       "      <td>71.000000</td>\n",
       "      <td>75.200000</td>\n",
       "      <td>606.525000</td>\n",
       "      <td>1.628303e+05</td>\n",
       "    </tr>\n",
       "    <tr>\n",
       "      <th>max</th>\n",
       "      <td>2017.000000</td>\n",
       "      <td>12.000000</td>\n",
       "      <td>31.000000</td>\n",
       "      <td>23.000000</td>\n",
       "      <td>44812.000000</td>\n",
       "      <td>44834.000000</td>\n",
       "      <td>44834.000000</td>\n",
       "      <td>44834.000000</td>\n",
       "      <td>44809.000000</td>\n",
       "      <td>856.300000</td>\n",
       "      <td>100.000000</td>\n",
       "      <td>47453.000000</td>\n",
       "      <td>44834.000000</td>\n",
       "      <td>1.000828e+06</td>\n",
       "    </tr>\n",
       "  </tbody>\n",
       "</table>\n",
       "</div>"
      ],
      "text/plain": [
       "               YEAR         MONTH           DAY          HOUR           WDS  \\\n",
       "count  10032.000000  10032.000000  10032.000000  10032.000000  10032.000000   \n",
       "mean    2016.526316      6.571770     15.787081     11.500000  31732.010083   \n",
       "std        0.499332      3.232158      8.864925      6.922532  18055.436246   \n",
       "min     2016.000000      1.000000      1.000000      0.000000      0.000000   \n",
       "25%     2016.000000      4.000000      8.000000      5.750000  31732.010083   \n",
       "50%     2017.000000      7.000000     16.000000     11.500000  44564.000000   \n",
       "75%     2017.000000      9.000000     23.000000     17.250000  44682.000000   \n",
       "max     2017.000000     12.000000     31.000000     23.000000  44812.000000   \n",
       "\n",
       "                MXT           MNT           TMP           PRC           PRS  \\\n",
       "count  10032.000000  10032.000000  10032.000000  10032.000000  10032.000000   \n",
       "mean   31126.676023  30597.777546  31029.242448    254.761740    846.087287   \n",
       "std    19319.868783  19527.123498  19161.012722   3080.958103      3.445537   \n",
       "min      -19.600000    -20.900000    -20.600000      0.000000    831.700000   \n",
       "25%       32.200000     21.000000     31.900000      0.000000    844.100000   \n",
       "50%    44608.000000  44606.000000  44606.000000      0.000000    846.100000   \n",
       "75%    44721.000000  44721.000000  44717.000000      0.000000    848.200000   \n",
       "max    44834.000000  44834.000000  44834.000000  44809.000000    856.300000   \n",
       "\n",
       "                RLH           SSI           GSR           OUP  \n",
       "count  10032.000000  10032.000000  10032.000000  1.003200e+04  \n",
       "mean      55.252245   5536.597367   2161.611744  1.628303e+05  \n",
       "std       21.508504  13457.388970   8796.565118  2.888152e+05  \n",
       "min        5.000000      0.000000      0.000000  0.000000e+00  \n",
       "25%       39.750000      0.000000      0.000000  0.000000e+00  \n",
       "50%       55.252245     19.845000     82.200000  4.592200e+02  \n",
       "75%       71.000000     75.200000    606.525000  1.628303e+05  \n",
       "max      100.000000  47453.000000  44834.000000  1.000828e+06  "
      ]
     },
     "execution_count": 30,
     "metadata": {},
     "output_type": "execute_result"
    }
   ],
   "source": [
    "solar_energy_data.describe()"
   ]
  },
  {
   "cell_type": "code",
   "execution_count": 24,
   "id": "6c90be3a",
   "metadata": {},
   "outputs": [],
   "source": [
    "# As it can see below, data has numeric values. It is better to approach regression problem to predict OUP"
   ]
  },
  {
   "cell_type": "code",
   "execution_count": 23,
   "id": "8973925e",
   "metadata": {},
   "outputs": [
    {
     "name": "stdout",
     "output_type": "stream",
     "text": [
      "<class 'pandas.core.frame.DataFrame'>\n",
      "RangeIndex: 10032 entries, 0 to 10031\n",
      "Data columns (total 14 columns):\n",
      " #   Column  Non-Null Count  Dtype  \n",
      "---  ------  --------------  -----  \n",
      " 0   YEAR    10032 non-null  int64  \n",
      " 1   MONTH   10032 non-null  int64  \n",
      " 2   DAY     10032 non-null  int64  \n",
      " 3   HOUR    10032 non-null  int64  \n",
      " 4   WDS     7964 non-null   float64\n",
      " 5   MXT     8867 non-null   float64\n",
      " 6   MNT     8867 non-null   float64\n",
      " 7   TMP     8686 non-null   float64\n",
      " 8   PRC     8416 non-null   float64\n",
      " 9   PRS     9848 non-null   float64\n",
      " 10  RLH     8686 non-null   float64\n",
      " 11  SSI     9458 non-null   float64\n",
      " 12  GSR     9443 non-null   float64\n",
      " 13  OUP     9469 non-null   float64\n",
      "dtypes: float64(10), int64(4)\n",
      "memory usage: 1.1 MB\n"
     ]
    }
   ],
   "source": [
    "solar_energy_data.info()"
   ]
  },
  {
   "cell_type": "code",
   "execution_count": 26,
   "id": "30a91d85",
   "metadata": {},
   "outputs": [],
   "source": [
    "# Data has some missing value almost in each features."
   ]
  },
  {
   "cell_type": "code",
   "execution_count": 25,
   "id": "8f512313",
   "metadata": {},
   "outputs": [
    {
     "data": {
      "text/plain": [
       "YEAR        0\n",
       "MONTH       0\n",
       "DAY         0\n",
       "HOUR        0\n",
       "WDS      2068\n",
       "MXT      1165\n",
       "MNT      1165\n",
       "TMP      1346\n",
       "PRC      1616\n",
       "PRS       184\n",
       "RLH      1346\n",
       "SSI       574\n",
       "GSR       589\n",
       "OUP       563\n",
       "dtype: int64"
      ]
     },
     "execution_count": 25,
     "metadata": {},
     "output_type": "execute_result"
    }
   ],
   "source": [
    "solar_energy_data.isnull().sum()"
   ]
  },
  {
   "cell_type": "code",
   "execution_count": 27,
   "id": "2ddcb465",
   "metadata": {},
   "outputs": [],
   "source": [
    "solar_energy_data['WDS']=solar_energy_data['WDS'].fillna(solar_energy_data['WDS'].mean())\n",
    "solar_energy_data['MXT']=solar_energy_data['MXT'].fillna(solar_energy_data['MXT'].mean())\n",
    "solar_energy_data['MNT']=solar_energy_data['MNT'].fillna(solar_energy_data['MNT'].mean())\n",
    "solar_energy_data['TMP']=solar_energy_data['TMP'].fillna(solar_energy_data['TMP'].mean())\n",
    "solar_energy_data['PRC']=solar_energy_data['PRC'].fillna(solar_energy_data['PRC'].mean())\n",
    "solar_energy_data['PRS']=solar_energy_data['PRS'].fillna(solar_energy_data['PRS'].mean())\n",
    "solar_energy_data['RLH']=solar_energy_data['RLH'].fillna(solar_energy_data['RLH'].mean())\n",
    "solar_energy_data['SSI']=solar_energy_data['SSI'].fillna(solar_energy_data['SSI'].mean())\n",
    "solar_energy_data['GSR']=solar_energy_data['GSR'].fillna(solar_energy_data['GSR'].mean())\n",
    "solar_energy_data['OUP']=solar_energy_data['OUP'].fillna(solar_energy_data['OUP'].mean())"
   ]
  },
  {
   "cell_type": "code",
   "execution_count": null,
   "id": "29af4023",
   "metadata": {},
   "outputs": [],
   "source": []
  },
  {
   "cell_type": "code",
   "execution_count": 28,
   "id": "9f5dc6c6",
   "metadata": {},
   "outputs": [
    {
     "data": {
      "text/plain": [
       "YEAR     0\n",
       "MONTH    0\n",
       "DAY      0\n",
       "HOUR     0\n",
       "WDS      0\n",
       "MXT      0\n",
       "MNT      0\n",
       "TMP      0\n",
       "PRC      0\n",
       "PRS      0\n",
       "RLH      0\n",
       "SSI      0\n",
       "GSR      0\n",
       "OUP      0\n",
       "dtype: int64"
      ]
     },
     "execution_count": 28,
     "metadata": {},
     "output_type": "execute_result"
    }
   ],
   "source": [
    "solar_energy_data.isnull().sum()"
   ]
  },
  {
   "cell_type": "code",
   "execution_count": 31,
   "id": "1c44d8ed",
   "metadata": {},
   "outputs": [],
   "source": [
    "input_features = ['WDS', 'MXT', 'MNT', 'TMP', 'PRC', 'PRS', 'RLH', 'SSI', 'GSR']\n",
    "X = solar_energy_data[input_features]\n",
    "y = solar_energy_data[['OUP']]"
   ]
  },
  {
   "cell_type": "code",
   "execution_count": 34,
   "id": "ed73fbf3",
   "metadata": {},
   "outputs": [],
   "source": [
    "xtrain, xtest, ytrain, ytest=train_test_split(X, y, test_size=0.10)"
   ]
  },
  {
   "cell_type": "code",
   "execution_count": 41,
   "id": "bc0b1e6a",
   "metadata": {},
   "outputs": [
    {
     "name": "stdout",
     "output_type": "stream",
     "text": [
      "DecisionTreeRegressor()\n"
     ]
    },
    {
     "data": {
      "text/plain": [
       "DecisionTreeRegressor(criterion='mse', random_state=42)"
      ]
     },
     "execution_count": 41,
     "metadata": {},
     "output_type": "execute_result"
    }
   ],
   "source": [
    "dtr = DecisionTreeRegressor()\n",
    "\n",
    "print(dtr)\n",
    "\n",
    "DecisionTreeRegressor(ccp_alpha=0.0, criterion='mse', max_depth=None,\n",
    "                      max_features=None, max_leaf_nodes=None,\n",
    "                      min_impurity_decrease=0.0,\n",
    "                      min_samples_leaf=1, min_samples_split=2,\n",
    "                      min_weight_fraction_leaf=0.0,\n",
    "                      random_state=42, splitter='best')"
   ]
  },
  {
   "cell_type": "code",
   "execution_count": 42,
   "id": "b9e9a4a5",
   "metadata": {},
   "outputs": [
    {
     "data": {
      "text/plain": [
       "DecisionTreeRegressor()"
      ]
     },
     "execution_count": 42,
     "metadata": {},
     "output_type": "execute_result"
    }
   ],
   "source": [
    "dtr.fit(xtrain,ytrain)"
   ]
  },
  {
   "cell_type": "code",
   "execution_count": 43,
   "id": "21ea94ec",
   "metadata": {},
   "outputs": [
    {
     "name": "stdout",
     "output_type": "stream",
     "text": [
      "R-squared:  0.9920786147343787\n"
     ]
    }
   ],
   "source": [
    "score = dtr.score(xtrain,ytrain)\n",
    "print(\"R-squared: \", score)"
   ]
  },
  {
   "cell_type": "code",
   "execution_count": 50,
   "id": "13dbbba8",
   "metadata": {},
   "outputs": [
    {
     "name": "stdout",
     "output_type": "stream",
     "text": [
      "MSE:  72303622793.36095\n",
      "RMSE:  268893.3297673279\n"
     ]
    }
   ],
   "source": [
    "ypred = dtr.predict(xtest)\n",
    "\n",
    "mse_dtr = mean_squared_error(ytest,ypred)\n",
    "print(\"MSE: \", mse_dtr)\n",
    "print(\"RMSE: \", math.sqrt(mse_dtr))"
   ]
  },
  {
   "cell_type": "code",
   "execution_count": 59,
   "id": "a33cf8f7",
   "metadata": {},
   "outputs": [
    {
     "ename": "AttributeError",
     "evalue": "'numpy.ndarray' object has no attribute 'iloc'",
     "output_type": "error",
     "traceback": [
      "\u001b[1;31m---------------------------------------------------------------------------\u001b[0m",
      "\u001b[1;31mAttributeError\u001b[0m                            Traceback (most recent call last)",
      "Input \u001b[1;32mIn [59]\u001b[0m, in \u001b[0;36m<cell line: 3>\u001b[1;34m()\u001b[0m\n\u001b[0;32m      1\u001b[0m x_ax \u001b[38;5;241m=\u001b[39m \u001b[38;5;28mrange\u001b[39m(\u001b[38;5;28mlen\u001b[39m(ytest))\n\u001b[0;32m      2\u001b[0m plt\u001b[38;5;241m.\u001b[39mplot(x_ax, ytest\u001b[38;5;241m.\u001b[39miloc[:,:\u001b[38;5;241m-\u001b[39m\u001b[38;5;241m1\u001b[39m]\u001b[38;5;241m.\u001b[39mvalues, linewidth\u001b[38;5;241m=\u001b[39m\u001b[38;5;241m1\u001b[39m, label\u001b[38;5;241m=\u001b[39m\u001b[38;5;124m\"\u001b[39m\u001b[38;5;124moriginal\u001b[39m\u001b[38;5;124m\"\u001b[39m)\n\u001b[1;32m----> 3\u001b[0m plt\u001b[38;5;241m.\u001b[39mplot(x_ax, \u001b[43mypred\u001b[49m\u001b[38;5;241;43m.\u001b[39;49m\u001b[43miloc\u001b[49m[:,:\u001b[38;5;241m-\u001b[39m\u001b[38;5;241m1\u001b[39m]\u001b[38;5;241m.\u001b[39mvalues, linewidth\u001b[38;5;241m=\u001b[39m\u001b[38;5;241m1.1\u001b[39m, label\u001b[38;5;241m=\u001b[39m\u001b[38;5;124m\"\u001b[39m\u001b[38;5;124mpredicted\u001b[39m\u001b[38;5;124m\"\u001b[39m)\n\u001b[0;32m      4\u001b[0m plt\u001b[38;5;241m.\u001b[39mtitle(\u001b[38;5;124m\"\u001b[39m\u001b[38;5;124my-test and y-predicted data\u001b[39m\u001b[38;5;124m\"\u001b[39m)\n\u001b[0;32m      5\u001b[0m plt\u001b[38;5;241m.\u001b[39mxlabel(\u001b[38;5;124m'\u001b[39m\u001b[38;5;124mX-axis\u001b[39m\u001b[38;5;124m'\u001b[39m)\n",
      "\u001b[1;31mAttributeError\u001b[0m: 'numpy.ndarray' object has no attribute 'iloc'"
     ]
    },
    {
     "data": {
      "image/png": "[encoded data removed]",
      "text/plain": [
       "<Figure size 432x288 with 1 Axes>"
      ]
     },
     "metadata": {
      "needs_background": "light"
     },
     "output_type": "display_data"
    }
   ],
   "source": [
    "x_ax = range(len(ytest))\n",
    "plt.plot(x_ax, ytest.iloc[:,:-1].values, linewidth=1, label=\"original\")\n",
    "plt.plot(x_ax, ypred.iloc[:,:-1].values, linewidth=1.1, label=\"predicted\")\n",
    "plt.title(\"y-test and y-predicted data\")\n",
    "plt.xlabel('X-axis')\n",
    "plt.ylabel('Y-axis')\n",
    "plt.legend(loc='best',fancybox=True, shadow=True)\n",
    "plt.grid(True)\n",
    "plt.show() "
   ]
  },
  {
   "cell_type": "code",
   "execution_count": null,
   "id": "534dbc91",
   "metadata": {},
   "outputs": [],
   "source": []
  }
 ],
 "metadata": {
  "kernelspec": {
   "display_name": "Python 3 (ipykernel)",
   "language": "python",
   "name": "python3"
  },
  "language_info": {
   "codemirror_mode": {
    "name": "ipython",
    "version": 3
   },
   "file_extension": ".py",
   "mimetype": "text/x-python",
   "name": "python",
   "nbconvert_exporter": "python",
   "pygments_lexer": "ipython3",
   "version": "3.9.12"
  }
 },
 "nbformat": 4,
 "nbformat_minor": 5
}
