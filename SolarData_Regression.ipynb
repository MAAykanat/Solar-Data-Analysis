{
 "cells": [
  {
   "cell_type": "code",
   "execution_count": 19,
   "id": "850a8c80",
   "metadata": {},
   "outputs": [],
   "source": [
    "import numpy as np\n",
    "import pandas as pd"
   ]
  },
  {
   "cell_type": "code",
   "execution_count": 20,
   "id": "ab9c09ad",
   "metadata": {},
   "outputs": [],
   "source": [
    "data_path = \"D:\\!!!MAAykanat Dosyalar\\MAA_Own_Study\\organised_data_final.csv\""
   ]
  },
  {
   "cell_type": "code",
   "execution_count": 21,
   "id": "d8e49e6b",
   "metadata": {},
   "outputs": [],
   "source": [
    "solar_energy_data = pd.read_csv(data_path, sep=\";\")"
   ]
  },
  {
   "cell_type": "code",
   "execution_count": 22,
   "id": "16050d3f",
   "metadata": {},
   "outputs": [
    {
     "data": {
      "text/html": [
       "<div>\n",
       "<style scoped>\n",
       "    .dataframe tbody tr th:only-of-type {\n",
       "        vertical-align: middle;\n",
       "    }\n",
       "\n",
       "    .dataframe tbody tr th {\n",
       "        vertical-align: top;\n",
       "    }\n",
       "\n",
       "    .dataframe thead th {\n",
       "        text-align: right;\n",
       "    }\n",
       "</style>\n",
       "<table border=\"1\" class=\"dataframe\">\n",
       "  <thead>\n",
       "    <tr style=\"text-align: right;\">\n",
       "      <th></th>\n",
       "      <th>YEAR</th>\n",
       "      <th>MONTH</th>\n",
       "      <th>DAY</th>\n",
       "      <th>HOUR</th>\n",
       "      <th>WDS</th>\n",
       "      <th>MXT</th>\n",
       "      <th>MNT</th>\n",
       "      <th>TMP</th>\n",
       "      <th>PRC</th>\n",
       "      <th>PRS</th>\n",
       "      <th>RLH</th>\n",
       "      <th>SSI</th>\n",
       "      <th>GSR</th>\n",
       "      <th>OUP</th>\n",
       "    </tr>\n",
       "  </thead>\n",
       "  <tbody>\n",
       "    <tr>\n",
       "      <th>0</th>\n",
       "      <td>2016</td>\n",
       "      <td>6</td>\n",
       "      <td>17</td>\n",
       "      <td>0</td>\n",
       "      <td>NaN</td>\n",
       "      <td>NaN</td>\n",
       "      <td>NaN</td>\n",
       "      <td>NaN</td>\n",
       "      <td>NaN</td>\n",
       "      <td>NaN</td>\n",
       "      <td>NaN</td>\n",
       "      <td>0.0</td>\n",
       "      <td>0.0</td>\n",
       "      <td>0.0</td>\n",
       "    </tr>\n",
       "    <tr>\n",
       "      <th>1</th>\n",
       "      <td>2016</td>\n",
       "      <td>6</td>\n",
       "      <td>17</td>\n",
       "      <td>1</td>\n",
       "      <td>NaN</td>\n",
       "      <td>NaN</td>\n",
       "      <td>NaN</td>\n",
       "      <td>NaN</td>\n",
       "      <td>NaN</td>\n",
       "      <td>NaN</td>\n",
       "      <td>NaN</td>\n",
       "      <td>0.0</td>\n",
       "      <td>0.0</td>\n",
       "      <td>0.0</td>\n",
       "    </tr>\n",
       "    <tr>\n",
       "      <th>2</th>\n",
       "      <td>2016</td>\n",
       "      <td>6</td>\n",
       "      <td>17</td>\n",
       "      <td>2</td>\n",
       "      <td>NaN</td>\n",
       "      <td>NaN</td>\n",
       "      <td>NaN</td>\n",
       "      <td>NaN</td>\n",
       "      <td>NaN</td>\n",
       "      <td>NaN</td>\n",
       "      <td>NaN</td>\n",
       "      <td>0.0</td>\n",
       "      <td>0.0</td>\n",
       "      <td>0.0</td>\n",
       "    </tr>\n",
       "    <tr>\n",
       "      <th>3</th>\n",
       "      <td>2016</td>\n",
       "      <td>6</td>\n",
       "      <td>17</td>\n",
       "      <td>3</td>\n",
       "      <td>NaN</td>\n",
       "      <td>NaN</td>\n",
       "      <td>NaN</td>\n",
       "      <td>NaN</td>\n",
       "      <td>NaN</td>\n",
       "      <td>NaN</td>\n",
       "      <td>NaN</td>\n",
       "      <td>0.0</td>\n",
       "      <td>0.0</td>\n",
       "      <td>0.0</td>\n",
       "    </tr>\n",
       "    <tr>\n",
       "      <th>4</th>\n",
       "      <td>2016</td>\n",
       "      <td>6</td>\n",
       "      <td>17</td>\n",
       "      <td>4</td>\n",
       "      <td>NaN</td>\n",
       "      <td>44754.0</td>\n",
       "      <td>44753.0</td>\n",
       "      <td>44693.0</td>\n",
       "      <td>0.0</td>\n",
       "      <td>848.3</td>\n",
       "      <td>80.0</td>\n",
       "      <td>0.0</td>\n",
       "      <td>0.0</td>\n",
       "      <td>0.0</td>\n",
       "    </tr>\n",
       "  </tbody>\n",
       "</table>\n",
       "</div>"
      ],
      "text/plain": [
       "   YEAR  MONTH  DAY  HOUR  WDS      MXT      MNT      TMP  PRC    PRS   RLH  \\\n",
       "0  2016      6   17     0  NaN      NaN      NaN      NaN  NaN    NaN   NaN   \n",
       "1  2016      6   17     1  NaN      NaN      NaN      NaN  NaN    NaN   NaN   \n",
       "2  2016      6   17     2  NaN      NaN      NaN      NaN  NaN    NaN   NaN   \n",
       "3  2016      6   17     3  NaN      NaN      NaN      NaN  NaN    NaN   NaN   \n",
       "4  2016      6   17     4  NaN  44754.0  44753.0  44693.0  0.0  848.3  80.0   \n",
       "\n",
       "   SSI  GSR  OUP  \n",
       "0  0.0  0.0  0.0  \n",
       "1  0.0  0.0  0.0  \n",
       "2  0.0  0.0  0.0  \n",
       "3  0.0  0.0  0.0  \n",
       "4  0.0  0.0  0.0  "
      ]
     },
     "execution_count": 22,
     "metadata": {},
     "output_type": "execute_result"
    }
   ],
   "source": [
    "solar_energy_data.head()"
   ]
  },
  {
   "cell_type": "code",
   "execution_count": 24,
   "id": "7756deec",
   "metadata": {},
   "outputs": [],
   "source": [
    "# As it can see below, data has numeric values. It is better to approach regression problem to predict OUP"
   ]
  },
  {
   "cell_type": "code",
   "execution_count": 23,
   "id": "cd20c8b4",
   "metadata": {},
   "outputs": [
    {
     "name": "stdout",
     "output_type": "stream",
     "text": [
      "<class 'pandas.core.frame.DataFrame'>\n",
      "RangeIndex: 10032 entries, 0 to 10031\n",
      "Data columns (total 14 columns):\n",
      " #   Column  Non-Null Count  Dtype  \n",
      "---  ------  --------------  -----  \n",
      " 0   YEAR    10032 non-null  int64  \n",
      " 1   MONTH   10032 non-null  int64  \n",
      " 2   DAY     10032 non-null  int64  \n",
      " 3   HOUR    10032 non-null  int64  \n",
      " 4   WDS     7964 non-null   float64\n",
      " 5   MXT     8867 non-null   float64\n",
      " 6   MNT     8867 non-null   float64\n",
      " 7   TMP     8686 non-null   float64\n",
      " 8   PRC     8416 non-null   float64\n",
      " 9   PRS     9848 non-null   float64\n",
      " 10  RLH     8686 non-null   float64\n",
      " 11  SSI     9458 non-null   float64\n",
      " 12  GSR     9443 non-null   float64\n",
      " 13  OUP     9469 non-null   float64\n",
      "dtypes: float64(10), int64(4)\n",
      "memory usage: 1.1 MB\n"
     ]
    }
   ],
   "source": [
    "solar_energy_data.info()"
   ]
  },
  {
   "cell_type": "code",
   "execution_count": null,
   "id": "943e6c1b",
   "metadata": {},
   "outputs": [],
   "source": [
    "# Data has some missing value almost in each features."
   ]
  },
  {
   "cell_type": "code",
   "execution_count": 25,
   "id": "b4786458",
   "metadata": {},
   "outputs": [
    {
     "data": {
      "text/plain": [
       "YEAR        0\n",
       "MONTH       0\n",
       "DAY         0\n",
       "HOUR        0\n",
       "WDS      2068\n",
       "MXT      1165\n",
       "MNT      1165\n",
       "TMP      1346\n",
       "PRC      1616\n",
       "PRS       184\n",
       "RLH      1346\n",
       "SSI       574\n",
       "GSR       589\n",
       "OUP       563\n",
       "dtype: int64"
      ]
     },
     "execution_count": 25,
     "metadata": {},
     "output_type": "execute_result"
    }
   ],
   "source": [
    "solar_energy_data.isnull().sum()"
   ]
  },
  {
   "cell_type": "code",
   "execution_count": null,
   "id": "88d169f6",
   "metadata": {},
   "outputs": [],
   "source": []
  }
 ],
 "metadata": {
  "kernelspec": {
   "display_name": "Python 3 (ipykernel)",
   "language": "python",
   "name": "python3"
  },
  "language_info": {
   "codemirror_mode": {
    "name": "ipython",
    "version": 3
   },
   "file_extension": ".py",
   "mimetype": "text/x-python",
   "name": "python",
   "nbconvert_exporter": "python",
   "pygments_lexer": "ipython3",
   "version": "3.9.12"
  }
 },
 "nbformat": 4,
 "nbformat_minor": 5
}
