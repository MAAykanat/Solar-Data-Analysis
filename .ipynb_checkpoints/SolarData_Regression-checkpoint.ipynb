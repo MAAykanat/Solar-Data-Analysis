{
 "cells": [
  {
   "cell_type": "code",
   "execution_count": 1,
   "id": "d60fac01",
   "metadata": {},
   "outputs": [],
   "source": [
    "import numpy as np\n",
    "import pandas as pd\n",
    "import math\n",
    "\n",
    "from sklearn.model_selection import train_test_split\n",
    "from sklearn.model_selection import RepeatedKFold\n",
    "from sklearn.model_selection import cross_val_score\n",
    "\n",
    "from sklearn.tree import DecisionTreeRegressor\n",
    "from sklearn.ensemble import RandomForestRegressor\n",
    "import xgboost\n",
    "\n",
    "from sklearn.metrics import mean_squared_error\n",
    "\n",
    "import matplotlib.pyplot as plt"
   ]
  },
  {
   "cell_type": "code",
   "execution_count": 2,
   "id": "b168f91c",
   "metadata": {},
   "outputs": [],
   "source": [
    "data_path = \"D:\\!!!MAAykanat Dosyalar\\MAA_Own_Study\\organised_data_final.csv\""
   ]
  },
  {
   "cell_type": "code",
   "execution_count": 3,
   "id": "bee8aeba",
   "metadata": {},
   "outputs": [],
   "source": [
    "solar_energy_data = pd.read_csv(data_path, sep=\";\")"
   ]
  },
  {
   "cell_type": "code",
   "execution_count": 4,
   "id": "0e68958f",
   "metadata": {},
   "outputs": [
    {
     "data": {
      "text/html": [
       "<div>\n",
       "<style scoped>\n",
       "    .dataframe tbody tr th:only-of-type {\n",
       "        vertical-align: middle;\n",
       "    }\n",
       "\n",
       "    .dataframe tbody tr th {\n",
       "        vertical-align: top;\n",
       "    }\n",
       "\n",
       "    .dataframe thead th {\n",
       "        text-align: right;\n",
       "    }\n",
       "</style>\n",
       "<table border=\"1\" class=\"dataframe\">\n",
       "  <thead>\n",
       "    <tr style=\"text-align: right;\">\n",
       "      <th></th>\n",
       "      <th>YEAR</th>\n",
       "      <th>MONTH</th>\n",
       "      <th>DAY</th>\n",
       "      <th>HOUR</th>\n",
       "      <th>WDS</th>\n",
       "      <th>MXT</th>\n",
       "      <th>MNT</th>\n",
       "      <th>TMP</th>\n",
       "      <th>PRC</th>\n",
       "      <th>PRS</th>\n",
       "      <th>RLH</th>\n",
       "      <th>SSI</th>\n",
       "      <th>GSR</th>\n",
       "      <th>OUP</th>\n",
       "    </tr>\n",
       "  </thead>\n",
       "  <tbody>\n",
       "    <tr>\n",
       "      <th>0</th>\n",
       "      <td>2016</td>\n",
       "      <td>6</td>\n",
       "      <td>17</td>\n",
       "      <td>0</td>\n",
       "      <td>NaN</td>\n",
       "      <td>NaN</td>\n",
       "      <td>NaN</td>\n",
       "      <td>NaN</td>\n",
       "      <td>NaN</td>\n",
       "      <td>NaN</td>\n",
       "      <td>NaN</td>\n",
       "      <td>0.0</td>\n",
       "      <td>0.0</td>\n",
       "      <td>0.0</td>\n",
       "    </tr>\n",
       "    <tr>\n",
       "      <th>1</th>\n",
       "      <td>2016</td>\n",
       "      <td>6</td>\n",
       "      <td>17</td>\n",
       "      <td>1</td>\n",
       "      <td>NaN</td>\n",
       "      <td>NaN</td>\n",
       "      <td>NaN</td>\n",
       "      <td>NaN</td>\n",
       "      <td>NaN</td>\n",
       "      <td>NaN</td>\n",
       "      <td>NaN</td>\n",
       "      <td>0.0</td>\n",
       "      <td>0.0</td>\n",
       "      <td>0.0</td>\n",
       "    </tr>\n",
       "    <tr>\n",
       "      <th>2</th>\n",
       "      <td>2016</td>\n",
       "      <td>6</td>\n",
       "      <td>17</td>\n",
       "      <td>2</td>\n",
       "      <td>NaN</td>\n",
       "      <td>NaN</td>\n",
       "      <td>NaN</td>\n",
       "      <td>NaN</td>\n",
       "      <td>NaN</td>\n",
       "      <td>NaN</td>\n",
       "      <td>NaN</td>\n",
       "      <td>0.0</td>\n",
       "      <td>0.0</td>\n",
       "      <td>0.0</td>\n",
       "    </tr>\n",
       "    <tr>\n",
       "      <th>3</th>\n",
       "      <td>2016</td>\n",
       "      <td>6</td>\n",
       "      <td>17</td>\n",
       "      <td>3</td>\n",
       "      <td>NaN</td>\n",
       "      <td>NaN</td>\n",
       "      <td>NaN</td>\n",
       "      <td>NaN</td>\n",
       "      <td>NaN</td>\n",
       "      <td>NaN</td>\n",
       "      <td>NaN</td>\n",
       "      <td>0.0</td>\n",
       "      <td>0.0</td>\n",
       "      <td>0.0</td>\n",
       "    </tr>\n",
       "    <tr>\n",
       "      <th>4</th>\n",
       "      <td>2016</td>\n",
       "      <td>6</td>\n",
       "      <td>17</td>\n",
       "      <td>4</td>\n",
       "      <td>NaN</td>\n",
       "      <td>44754.0</td>\n",
       "      <td>44753.0</td>\n",
       "      <td>44693.0</td>\n",
       "      <td>0.0</td>\n",
       "      <td>848.3</td>\n",
       "      <td>80.0</td>\n",
       "      <td>0.0</td>\n",
       "      <td>0.0</td>\n",
       "      <td>0.0</td>\n",
       "    </tr>\n",
       "  </tbody>\n",
       "</table>\n",
       "</div>"
      ],
      "text/plain": [
       "   YEAR  MONTH  DAY  HOUR  WDS      MXT      MNT      TMP  PRC    PRS   RLH  \\\n",
       "0  2016      6   17     0  NaN      NaN      NaN      NaN  NaN    NaN   NaN   \n",
       "1  2016      6   17     1  NaN      NaN      NaN      NaN  NaN    NaN   NaN   \n",
       "2  2016      6   17     2  NaN      NaN      NaN      NaN  NaN    NaN   NaN   \n",
       "3  2016      6   17     3  NaN      NaN      NaN      NaN  NaN    NaN   NaN   \n",
       "4  2016      6   17     4  NaN  44754.0  44753.0  44693.0  0.0  848.3  80.0   \n",
       "\n",
       "   SSI  GSR  OUP  \n",
       "0  0.0  0.0  0.0  \n",
       "1  0.0  0.0  0.0  \n",
       "2  0.0  0.0  0.0  \n",
       "3  0.0  0.0  0.0  \n",
       "4  0.0  0.0  0.0  "
      ]
     },
     "execution_count": 4,
     "metadata": {},
     "output_type": "execute_result"
    }
   ],
   "source": [
    "solar_energy_data.head()"
   ]
  },
  {
   "cell_type": "code",
   "execution_count": 5,
   "id": "54cbdf13",
   "metadata": {},
   "outputs": [
    {
     "data": {
      "text/html": [
       "<div>\n",
       "<style scoped>\n",
       "    .dataframe tbody tr th:only-of-type {\n",
       "        vertical-align: middle;\n",
       "    }\n",
       "\n",
       "    .dataframe tbody tr th {\n",
       "        vertical-align: top;\n",
       "    }\n",
       "\n",
       "    .dataframe thead th {\n",
       "        text-align: right;\n",
       "    }\n",
       "</style>\n",
       "<table border=\"1\" class=\"dataframe\">\n",
       "  <thead>\n",
       "    <tr style=\"text-align: right;\">\n",
       "      <th></th>\n",
       "      <th>YEAR</th>\n",
       "      <th>MONTH</th>\n",
       "      <th>DAY</th>\n",
       "      <th>HOUR</th>\n",
       "      <th>WDS</th>\n",
       "      <th>MXT</th>\n",
       "      <th>MNT</th>\n",
       "      <th>TMP</th>\n",
       "      <th>PRC</th>\n",
       "      <th>PRS</th>\n",
       "      <th>RLH</th>\n",
       "      <th>SSI</th>\n",
       "      <th>GSR</th>\n",
       "      <th>OUP</th>\n",
       "    </tr>\n",
       "  </thead>\n",
       "  <tbody>\n",
       "    <tr>\n",
       "      <th>count</th>\n",
       "      <td>10032.000000</td>\n",
       "      <td>10032.000000</td>\n",
       "      <td>10032.000000</td>\n",
       "      <td>10032.000000</td>\n",
       "      <td>7964.000000</td>\n",
       "      <td>8867.000000</td>\n",
       "      <td>8867.000000</td>\n",
       "      <td>8686.000000</td>\n",
       "      <td>8416.000000</td>\n",
       "      <td>9848.000000</td>\n",
       "      <td>8686.000000</td>\n",
       "      <td>9458.000000</td>\n",
       "      <td>9443.000000</td>\n",
       "      <td>9.469000e+03</td>\n",
       "    </tr>\n",
       "    <tr>\n",
       "      <th>mean</th>\n",
       "      <td>2016.526316</td>\n",
       "      <td>6.571770</td>\n",
       "      <td>15.787081</td>\n",
       "      <td>11.500000</td>\n",
       "      <td>31732.010083</td>\n",
       "      <td>31126.676023</td>\n",
       "      <td>30597.777546</td>\n",
       "      <td>31029.242448</td>\n",
       "      <td>254.761740</td>\n",
       "      <td>846.087287</td>\n",
       "      <td>55.252245</td>\n",
       "      <td>5536.597367</td>\n",
       "      <td>2161.611744</td>\n",
       "      <td>1.628303e+05</td>\n",
       "    </tr>\n",
       "    <tr>\n",
       "      <th>std</th>\n",
       "      <td>0.499332</td>\n",
       "      <td>3.232158</td>\n",
       "      <td>8.864925</td>\n",
       "      <td>6.922532</td>\n",
       "      <td>20264.773007</td>\n",
       "      <td>20550.028294</td>\n",
       "      <td>20770.479598</td>\n",
       "      <td>20592.338236</td>\n",
       "      <td>3363.805277</td>\n",
       "      <td>3.477579</td>\n",
       "      <td>23.115186</td>\n",
       "      <td>13859.776470</td>\n",
       "      <td>9066.783365</td>\n",
       "      <td>2.972782e+05</td>\n",
       "    </tr>\n",
       "    <tr>\n",
       "      <th>min</th>\n",
       "      <td>2016.000000</td>\n",
       "      <td>1.000000</td>\n",
       "      <td>1.000000</td>\n",
       "      <td>0.000000</td>\n",
       "      <td>0.000000</td>\n",
       "      <td>-19.600000</td>\n",
       "      <td>-20.900000</td>\n",
       "      <td>-20.600000</td>\n",
       "      <td>0.000000</td>\n",
       "      <td>831.700000</td>\n",
       "      <td>5.000000</td>\n",
       "      <td>0.000000</td>\n",
       "      <td>0.000000</td>\n",
       "      <td>0.000000e+00</td>\n",
       "    </tr>\n",
       "    <tr>\n",
       "      <th>25%</th>\n",
       "      <td>2016.000000</td>\n",
       "      <td>4.000000</td>\n",
       "      <td>8.000000</td>\n",
       "      <td>5.750000</td>\n",
       "      <td>2.000000</td>\n",
       "      <td>22.000000</td>\n",
       "      <td>10.000000</td>\n",
       "      <td>18.000000</td>\n",
       "      <td>0.000000</td>\n",
       "      <td>844.100000</td>\n",
       "      <td>36.000000</td>\n",
       "      <td>0.000000</td>\n",
       "      <td>0.000000</td>\n",
       "      <td>0.000000e+00</td>\n",
       "    </tr>\n",
       "    <tr>\n",
       "      <th>50%</th>\n",
       "      <td>2017.000000</td>\n",
       "      <td>7.000000</td>\n",
       "      <td>16.000000</td>\n",
       "      <td>11.500000</td>\n",
       "      <td>44621.000000</td>\n",
       "      <td>44632.000000</td>\n",
       "      <td>44632.000000</td>\n",
       "      <td>44636.000000</td>\n",
       "      <td>0.000000</td>\n",
       "      <td>846.200000</td>\n",
       "      <td>55.000000</td>\n",
       "      <td>0.900000</td>\n",
       "      <td>40.800000</td>\n",
       "      <td>1.882200e+02</td>\n",
       "    </tr>\n",
       "    <tr>\n",
       "      <th>75%</th>\n",
       "      <td>2017.000000</td>\n",
       "      <td>9.000000</td>\n",
       "      <td>23.000000</td>\n",
       "      <td>17.250000</td>\n",
       "      <td>44713.000000</td>\n",
       "      <td>44732.000000</td>\n",
       "      <td>44733.000000</td>\n",
       "      <td>44730.000000</td>\n",
       "      <td>0.000000</td>\n",
       "      <td>848.200000</td>\n",
       "      <td>74.000000</td>\n",
       "      <td>64.590000</td>\n",
       "      <td>512.650000</td>\n",
       "      <td>1.760790e+05</td>\n",
       "    </tr>\n",
       "    <tr>\n",
       "      <th>max</th>\n",
       "      <td>2017.000000</td>\n",
       "      <td>12.000000</td>\n",
       "      <td>31.000000</td>\n",
       "      <td>23.000000</td>\n",
       "      <td>44812.000000</td>\n",
       "      <td>44834.000000</td>\n",
       "      <td>44834.000000</td>\n",
       "      <td>44834.000000</td>\n",
       "      <td>44809.000000</td>\n",
       "      <td>856.300000</td>\n",
       "      <td>100.000000</td>\n",
       "      <td>47453.000000</td>\n",
       "      <td>44834.000000</td>\n",
       "      <td>1.000828e+06</td>\n",
       "    </tr>\n",
       "  </tbody>\n",
       "</table>\n",
       "</div>"
      ],
      "text/plain": [
       "               YEAR         MONTH           DAY          HOUR           WDS  \\\n",
       "count  10032.000000  10032.000000  10032.000000  10032.000000   7964.000000   \n",
       "mean    2016.526316      6.571770     15.787081     11.500000  31732.010083   \n",
       "std        0.499332      3.232158      8.864925      6.922532  20264.773007   \n",
       "min     2016.000000      1.000000      1.000000      0.000000      0.000000   \n",
       "25%     2016.000000      4.000000      8.000000      5.750000      2.000000   \n",
       "50%     2017.000000      7.000000     16.000000     11.500000  44621.000000   \n",
       "75%     2017.000000      9.000000     23.000000     17.250000  44713.000000   \n",
       "max     2017.000000     12.000000     31.000000     23.000000  44812.000000   \n",
       "\n",
       "                MXT           MNT           TMP           PRC          PRS  \\\n",
       "count   8867.000000   8867.000000   8686.000000   8416.000000  9848.000000   \n",
       "mean   31126.676023  30597.777546  31029.242448    254.761740   846.087287   \n",
       "std    20550.028294  20770.479598  20592.338236   3363.805277     3.477579   \n",
       "min      -19.600000    -20.900000    -20.600000      0.000000   831.700000   \n",
       "25%       22.000000     10.000000     18.000000      0.000000   844.100000   \n",
       "50%    44632.000000  44632.000000  44636.000000      0.000000   846.200000   \n",
       "75%    44732.000000  44733.000000  44730.000000      0.000000   848.200000   \n",
       "max    44834.000000  44834.000000  44834.000000  44809.000000   856.300000   \n",
       "\n",
       "               RLH           SSI           GSR           OUP  \n",
       "count  8686.000000   9458.000000   9443.000000  9.469000e+03  \n",
       "mean     55.252245   5536.597367   2161.611744  1.628303e+05  \n",
       "std      23.115186  13859.776470   9066.783365  2.972782e+05  \n",
       "min       5.000000      0.000000      0.000000  0.000000e+00  \n",
       "25%      36.000000      0.000000      0.000000  0.000000e+00  \n",
       "50%      55.000000      0.900000     40.800000  1.882200e+02  \n",
       "75%      74.000000     64.590000    512.650000  1.760790e+05  \n",
       "max     100.000000  47453.000000  44834.000000  1.000828e+06  "
      ]
     },
     "execution_count": 5,
     "metadata": {},
     "output_type": "execute_result"
    }
   ],
   "source": [
    "solar_energy_data.describe()"
   ]
  },
  {
   "cell_type": "code",
   "execution_count": 6,
   "id": "c84861fb",
   "metadata": {},
   "outputs": [],
   "source": [
    "# As it can see below, data has numeric values. It is better to approach regression problem to predict OUP"
   ]
  },
  {
   "cell_type": "code",
   "execution_count": 7,
   "id": "6fe38f2a",
   "metadata": {},
   "outputs": [
    {
     "name": "stdout",
     "output_type": "stream",
     "text": [
      "<class 'pandas.core.frame.DataFrame'>\n",
      "RangeIndex: 10032 entries, 0 to 10031\n",
      "Data columns (total 14 columns):\n",
      " #   Column  Non-Null Count  Dtype  \n",
      "---  ------  --------------  -----  \n",
      " 0   YEAR    10032 non-null  int64  \n",
      " 1   MONTH   10032 non-null  int64  \n",
      " 2   DAY     10032 non-null  int64  \n",
      " 3   HOUR    10032 non-null  int64  \n",
      " 4   WDS     7964 non-null   float64\n",
      " 5   MXT     8867 non-null   float64\n",
      " 6   MNT     8867 non-null   float64\n",
      " 7   TMP     8686 non-null   float64\n",
      " 8   PRC     8416 non-null   float64\n",
      " 9   PRS     9848 non-null   float64\n",
      " 10  RLH     8686 non-null   float64\n",
      " 11  SSI     9458 non-null   float64\n",
      " 12  GSR     9443 non-null   float64\n",
      " 13  OUP     9469 non-null   float64\n",
      "dtypes: float64(10), int64(4)\n",
      "memory usage: 1.1 MB\n"
     ]
    }
   ],
   "source": [
    "solar_energy_data.info()"
   ]
  },
  {
   "cell_type": "code",
   "execution_count": 8,
   "id": "abf5818c",
   "metadata": {},
   "outputs": [],
   "source": [
    "# Data has some missing value almost in each features."
   ]
  },
  {
   "cell_type": "code",
   "execution_count": 9,
   "id": "432159f7",
   "metadata": {},
   "outputs": [
    {
     "data": {
      "text/plain": [
       "YEAR        0\n",
       "MONTH       0\n",
       "DAY         0\n",
       "HOUR        0\n",
       "WDS      2068\n",
       "MXT      1165\n",
       "MNT      1165\n",
       "TMP      1346\n",
       "PRC      1616\n",
       "PRS       184\n",
       "RLH      1346\n",
       "SSI       574\n",
       "GSR       589\n",
       "OUP       563\n",
       "dtype: int64"
      ]
     },
     "execution_count": 9,
     "metadata": {},
     "output_type": "execute_result"
    }
   ],
   "source": [
    "solar_energy_data.isnull().sum()"
   ]
  },
  {
   "cell_type": "code",
   "execution_count": 10,
   "id": "3568521c",
   "metadata": {},
   "outputs": [],
   "source": [
    "solar_energy_data['WDS']=solar_energy_data['WDS'].fillna(solar_energy_data['WDS'].mean())\n",
    "solar_energy_data['MXT']=solar_energy_data['MXT'].fillna(solar_energy_data['MXT'].mean())\n",
    "solar_energy_data['MNT']=solar_energy_data['MNT'].fillna(solar_energy_data['MNT'].mean())\n",
    "solar_energy_data['TMP']=solar_energy_data['TMP'].fillna(solar_energy_data['TMP'].mean())\n",
    "solar_energy_data['PRC']=solar_energy_data['PRC'].fillna(solar_energy_data['PRC'].mean())\n",
    "solar_energy_data['PRS']=solar_energy_data['PRS'].fillna(solar_energy_data['PRS'].mean())\n",
    "solar_energy_data['RLH']=solar_energy_data['RLH'].fillna(solar_energy_data['RLH'].mean())\n",
    "solar_energy_data['SSI']=solar_energy_data['SSI'].fillna(solar_energy_data['SSI'].mean())\n",
    "solar_energy_data['GSR']=solar_energy_data['GSR'].fillna(solar_energy_data['GSR'].mean())\n",
    "solar_energy_data['OUP']=solar_energy_data['OUP'].fillna(solar_energy_data['OUP'].mean())"
   ]
  },
  {
   "cell_type": "code",
   "execution_count": null,
   "id": "6e5bde1f",
   "metadata": {},
   "outputs": [],
   "source": []
  },
  {
   "cell_type": "code",
   "execution_count": 11,
   "id": "da6e54fd",
   "metadata": {},
   "outputs": [
    {
     "data": {
      "text/plain": [
       "YEAR     0\n",
       "MONTH    0\n",
       "DAY      0\n",
       "HOUR     0\n",
       "WDS      0\n",
       "MXT      0\n",
       "MNT      0\n",
       "TMP      0\n",
       "PRC      0\n",
       "PRS      0\n",
       "RLH      0\n",
       "SSI      0\n",
       "GSR      0\n",
       "OUP      0\n",
       "dtype: int64"
      ]
     },
     "execution_count": 11,
     "metadata": {},
     "output_type": "execute_result"
    }
   ],
   "source": [
    "solar_energy_data.isnull().sum()"
   ]
  },
  {
   "cell_type": "code",
   "execution_count": 12,
   "id": "2b15cf7d",
   "metadata": {},
   "outputs": [],
   "source": [
    "input_features = ['WDS', 'MXT', 'MNT', 'TMP', 'PRC', 'PRS', 'RLH', 'SSI', 'GSR']\n",
    "X = solar_energy_data[input_features]\n",
    "y = solar_energy_data[['OUP']]"
   ]
  },
  {
   "cell_type": "code",
   "execution_count": 13,
   "id": "69bcbae6",
   "metadata": {},
   "outputs": [],
   "source": [
    "xtrain, xtest, ytrain, ytest=train_test_split(X, y, test_size=0.10)"
   ]
  },
  {
   "cell_type": "code",
   "execution_count": 14,
   "id": "bc9e51ef",
   "metadata": {},
   "outputs": [
    {
     "name": "stdout",
     "output_type": "stream",
     "text": [
      "DecisionTreeRegressor()\n"
     ]
    },
    {
     "data": {
      "text/plain": [
       "DecisionTreeRegressor(criterion='mse', random_state=42)"
      ]
     },
     "execution_count": 14,
     "metadata": {},
     "output_type": "execute_result"
    }
   ],
   "source": [
    "dtr = DecisionTreeRegressor()\n",
    "\n",
    "print(dtr)\n",
    "\n",
    "DecisionTreeRegressor(ccp_alpha=0.0, criterion='mse', max_depth=None,\n",
    "                      max_features=None, max_leaf_nodes=None,\n",
    "                      min_impurity_decrease=0.0,\n",
    "                      min_samples_leaf=1, min_samples_split=2,\n",
    "                      min_weight_fraction_leaf=0.0,\n",
    "                      random_state=42, splitter='best')"
   ]
  },
  {
   "cell_type": "code",
   "execution_count": 15,
   "id": "662baa60",
   "metadata": {},
   "outputs": [
    {
     "data": {
      "text/plain": [
       "DecisionTreeRegressor()"
      ]
     },
     "execution_count": 15,
     "metadata": {},
     "output_type": "execute_result"
    }
   ],
   "source": [
    "dtr.fit(xtrain,ytrain)"
   ]
  },
  {
   "cell_type": "code",
   "execution_count": 16,
   "id": "9a131e13",
   "metadata": {},
   "outputs": [
    {
     "name": "stdout",
     "output_type": "stream",
     "text": [
      "R-squared:  0.9911442997661676\n"
     ]
    }
   ],
   "source": [
    "score_dtr = dtr.score(xtrain,ytrain)\n",
    "print(\"R-squared: \", score_dtr)"
   ]
  },
  {
   "cell_type": "code",
   "execution_count": 17,
   "id": "31845892",
   "metadata": {},
   "outputs": [
    {
     "name": "stdout",
     "output_type": "stream",
     "text": [
      "MSE:  68369110906.15521\n",
      "RMSE:  261474.8762427381\n"
     ]
    }
   ],
   "source": [
    "ypred_dtr = dtr.predict(xtest)\n",
    "\n",
    "mse_dtr = mean_squared_error(ytest,ypred_dtr)\n",
    "print(\"MSE: \", mse_dtr)\n",
    "print(\"RMSE: \", math.sqrt(mse_dtr))"
   ]
  },
  {
   "cell_type": "code",
   "execution_count": 18,
   "id": "5c6623cb",
   "metadata": {},
   "outputs": [
    {
     "data": {
      "image/png": "[encoded data removed]",
      "text/plain": [
       "<Figure size 432x288 with 1 Axes>"
      ]
     },
     "metadata": {
      "needs_background": "light"
     },
     "output_type": "display_data"
    }
   ],
   "source": [
    "x_ax = range(len(ytest))\n",
    "plt.plot(x_ax, ytest.iloc[:,:].values, linewidth=1, label=\"original\")\n",
    "plt.plot(x_ax, ypred_dtr, linewidth=1.1, label=\"predicted\")\n",
    "plt.title(\"y-test and y-predicted data\")\n",
    "plt.xlabel('X-axis')\n",
    "plt.ylabel('Y-axis')\n",
    "plt.legend(loc='best',fancybox=True, shadow=True)\n",
    "plt.grid(True)\n",
    "plt.show() "
   ]
  },
  {
   "cell_type": "code",
   "execution_count": 19,
   "id": "7970e22d",
   "metadata": {},
   "outputs": [
    {
     "name": "stdout",
     "output_type": "stream",
     "text": [
      "RandomForestRegressor(max_depth=5, max_features='sqrt', n_estimators=300,\n",
      "                      random_state=42)\n"
     ]
    }
   ],
   "source": [
    "rf = RandomForestRegressor(n_estimators = 300, max_features = 'sqrt', max_depth = 5, random_state = 42)\n",
    "\n",
    "print(rf)"
   ]
  },
  {
   "cell_type": "code",
   "execution_count": 20,
   "id": "4062aec8",
   "metadata": {},
   "outputs": [
    {
     "name": "stderr",
     "output_type": "stream",
     "text": [
      "C:\\Users\\muhammet.aykanat\\AppData\\Local\\Temp\\ipykernel_15884\\2224009558.py:1: DataConversionWarning: A column-vector y was passed when a 1d array was expected. Please change the shape of y to (n_samples,), for example using ravel().\n",
      "  rf.fit(xtrain,ytrain)\n"
     ]
    },
    {
     "data": {
      "text/plain": [
       "RandomForestRegressor(max_depth=5, max_features='sqrt', n_estimators=300,\n",
       "                      random_state=42)"
      ]
     },
     "execution_count": 20,
     "metadata": {},
     "output_type": "execute_result"
    }
   ],
   "source": [
    "rf.fit(xtrain,ytrain)"
   ]
  },
  {
   "cell_type": "code",
   "execution_count": 21,
   "id": "521da263",
   "metadata": {},
   "outputs": [
    {
     "name": "stdout",
     "output_type": "stream",
     "text": [
      "R-squared:  0.9911442997661676\n"
     ]
    }
   ],
   "source": [
    "score_fr = dtr.score(xtrain,ytrain)\n",
    "print(\"R-squared: \", score_fr)"
   ]
  },
  {
   "cell_type": "code",
   "execution_count": 22,
   "id": "f539a2e8",
   "metadata": {},
   "outputs": [
    {
     "name": "stdout",
     "output_type": "stream",
     "text": [
      "MSE:  44403927098.16724\n",
      "RMSE:  210722.39344257466\n"
     ]
    }
   ],
   "source": [
    "ypred_rf = rf.predict(xtest)\n",
    "\n",
    "mse_rf = mean_squared_error(ytest,ypred_rf)\n",
    "print(\"MSE: \", mse_rf)\n",
    "print(\"RMSE: \", math.sqrt(mse_rf))"
   ]
  },
  {
   "cell_type": "code",
   "execution_count": 23,
   "id": "2af0776f",
   "metadata": {},
   "outputs": [
    {
     "data": {
      "image/png": "[encoded data removed]",
      "text/plain": [
       "<Figure size 432x288 with 1 Axes>"
      ]
     },
     "metadata": {
      "needs_background": "light"
     },
     "output_type": "display_data"
    }
   ],
   "source": [
    "x_ax = range(len(ytest))\n",
    "plt.plot(x_ax, ytest.iloc[:,:].values, linewidth=1, label=\"original\")\n",
    "plt.plot(x_ax, ypred_rf, linewidth=1.1, label=\"predicted\")\n",
    "plt.title(\"y-test and y-predicted data\")\n",
    "plt.xlabel('X-axis')\n",
    "plt.ylabel('Y-axis')\n",
    "plt.legend(loc='best',fancybox=True, shadow=True)\n",
    "plt.grid(True)\n",
    "plt.show() "
   ]
  },
  {
   "cell_type": "code",
   "execution_count": 24,
   "id": "ee33ab8e",
   "metadata": {},
   "outputs": [
    {
     "name": "stdout",
     "output_type": "stream",
     "text": [
      "XGBRegressor(base_score=None, booster=None, callbacks=None,\n",
      "             colsample_bylevel=None, colsample_bynode=None,\n",
      "             colsample_bytree=0.8, early_stopping_rounds=None,\n",
      "             enable_categorical=False, eta=0.1, eval_metric=None,\n",
      "             feature_types=None, gamma=None, gpu_id=None, grow_policy=None,\n",
      "             importance_type=None, interaction_constraints=None,\n",
      "             learning_rate=None, max_bin=None, max_cat_threshold=None,\n",
      "             max_cat_to_onehot=None, max_delta_step=None, max_depth=7,\n",
      "             max_leaves=None, min_child_weight=None, missing=nan,\n",
      "             monotone_constraints=None, n_estimators=1000, n_jobs=None,\n",
      "             num_parallel_tree=None, predictor=None, ...)\n"
     ]
    }
   ],
   "source": [
    "xgboost_model = xgboost.XGBRegressor(n_estimators=1000, max_depth=7, eta=0.1, subsample=0.7, colsample_bytree=0.8)\n",
    "print(xgboost_model)"
   ]
  },
  {
   "cell_type": "code",
   "execution_count": 25,
   "id": "ac526fd2",
   "metadata": {},
   "outputs": [],
   "source": [
    "cv = RepeatedKFold(n_splits=10, n_repeats=3, random_state=42)\n",
    "scores = cross_val_score(xgboost_model, xtrain, ytrain, scoring='neg_mean_absolute_error', cv=cv, n_jobs=-1)"
   ]
  },
  {
   "cell_type": "code",
   "execution_count": 28,
   "id": "d9da1d39",
   "metadata": {},
   "outputs": [
    {
     "name": "stdout",
     "output_type": "stream",
     "text": [
      "Mean MAE: 119140.872 (4853.087)\n"
     ]
    }
   ],
   "source": [
    "scores = np.absolute(scores)\n",
    "print('Mean MAE: %.3f (%.3f)' % (scores.mean(), scores.std()) )"
   ]
  },
  {
   "cell_type": "code",
   "execution_count": 30,
   "id": "10335454",
   "metadata": {},
   "outputs": [
    {
     "data": {
      "text/plain": [
       "XGBRegressor(base_score=0.5, booster='gbtree', callbacks=None,\n",
       "             colsample_bylevel=1, colsample_bynode=1, colsample_bytree=0.8,\n",
       "             early_stopping_rounds=None, enable_categorical=False, eta=0.1,\n",
       "             eval_metric=None, feature_types=None, gamma=0, gpu_id=-1,\n",
       "             grow_policy='depthwise', importance_type=None,\n",
       "             interaction_constraints='', learning_rate=0.100000001, max_bin=256,\n",
       "             max_cat_threshold=64, max_cat_to_onehot=4, max_delta_step=0,\n",
       "             max_depth=7, max_leaves=0, min_child_weight=1, missing=nan,\n",
       "             monotone_constraints='()', n_estimators=1000, n_jobs=0,\n",
       "             num_parallel_tree=1, predictor='auto', ...)"
      ]
     },
     "execution_count": 30,
     "metadata": {},
     "output_type": "execute_result"
    }
   ],
   "source": [
    "xgboost_model.fit(xtrain,ytrain)"
   ]
  },
  {
   "cell_type": "code",
   "execution_count": 32,
   "id": "fa50b94d",
   "metadata": {},
   "outputs": [
    {
     "name": "stdout",
     "output_type": "stream",
     "text": [
      "MSE:  39638348435.80165\n",
      "RMSE:  199093.81817575765\n"
     ]
    }
   ],
   "source": [
    "ypred_xgboost = xgboost_model.predict(xtest)\n",
    "\n",
    "mse_xgboost = mean_squared_error(ytest,ypred_xgboost)\n",
    "print(\"MSE: \", mse_xgboost)\n",
    "print(\"RMSE: \", math.sqrt(mse_xgboost))"
   ]
  },
  {
   "cell_type": "code",
   "execution_count": 33,
   "id": "ba68fd2a",
   "metadata": {},
   "outputs": [
    {
     "data": {
      "image/png": "[encoded data removed]",
      "text/plain": [
       "<Figure size 432x288 with 1 Axes>"
      ]
     },
     "metadata": {
      "needs_background": "light"
     },
     "output_type": "display_data"
    }
   ],
   "source": [
    "x_ax = range(len(ytest))\n",
    "plt.plot(x_ax, ytest.iloc[:,:].values, linewidth=1, label=\"original\")\n",
    "plt.plot(x_ax, ypred_xgboost, linewidth=1.1, label=\"predicted\")\n",
    "plt.title(\"y-test and y-predicted data\")\n",
    "plt.xlabel('X-axis')\n",
    "plt.ylabel('Y-axis')\n",
    "plt.legend(loc='best',fancybox=True, shadow=True)\n",
    "plt.grid(True)\n",
    "plt.show() "
   ]
  },
  {
   "cell_type": "code",
   "execution_count": null,
   "id": "feb497f2",
   "metadata": {},
   "outputs": [],
   "source": []
  }
 ],
 "metadata": {
  "kernelspec": {
   "display_name": "Python 3 (ipykernel)",
   "language": "python",
   "name": "python3"
  },
  "language_info": {
   "codemirror_mode": {
    "name": "ipython",
    "version": 3
   },
   "file_extension": ".py",
   "mimetype": "text/x-python",
   "name": "python",
   "nbconvert_exporter": "python",
   "pygments_lexer": "ipython3",
   "version": "3.9.12"
  }
 },
 "nbformat": 4,
 "nbformat_minor": 5
}
